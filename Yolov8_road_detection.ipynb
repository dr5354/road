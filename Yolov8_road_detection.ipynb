{
  "nbformat": 4,
  "nbformat_minor": 0,
  "metadata": {
    "colab": {
      "private_outputs": true,
      "provenance": [],
      "authorship_tag": "ABX9TyPim5h6C9ceKD644/ygeE2g",
      "include_colab_link": true
    },
    "kernelspec": {
      "name": "python3",
      "display_name": "Python 3"
    },
    "language_info": {
      "name": "python"
    },
    "accelerator": "GPU",
    "gpuClass": "standard"
  },
  "cells": [
    {
      "cell_type": "markdown",
      "metadata": {
        "id": "view-in-github",
        "colab_type": "text"
      },
      "source": [
        "<a href=\"https://colab.research.google.com/github/dr5354/road/blob/main/Yolov8_road_detection.ipynb\" target=\"_parent\"><img src=\"https://colab.research.google.com/assets/colab-badge.svg\" alt=\"Open In Colab\"/></a>"
      ]
    },
    {
      "cell_type": "markdown",
      "source": [
        "Импорт и проверка результата установки yolov8"
      ],
      "metadata": {
        "id": "rKlP27wUjvuC"
      }
    },
    {
      "cell_type": "code",
      "execution_count": null,
      "metadata": {
        "id": "Ndfa9n1sPKRs"
      },
      "outputs": [],
      "source": [
        "\n",
        "%pip install ultralytics\n",
        "import ultralytics\n",
        "ultralytics.checks()\n",
        "\n"
      ]
    },
    {
      "cell_type": "markdown",
      "source": [
        "Установка roboflow и загрузка датасета с roboflow"
      ],
      "metadata": {
        "id": "OpyRD0kYlgLX"
      }
    },
    {
      "cell_type": "code",
      "source": [
        "!pip install roboflow\n",
        "from roboflow import Roboflow\n",
        "rf = Roboflow(api_key=\"gYavA7LZ11PvEtxDpOzT\")\n",
        "project = rf.workspace(\"nikolay-schezhin-nvsmb\").project(\"roaddetection-e5a3v\")\n",
        "dataset = project.version(5).download(\"yolov8\")"
      ],
      "metadata": {
        "id": "SRwmXNfBPXD8"
      },
      "execution_count": null,
      "outputs": []
    },
    {
      "cell_type": "markdown",
      "source": [
        "Обучение модели "
      ],
      "metadata": {
        "id": "xWnJk9O3lwKb"
      }
    },
    {
      "cell_type": "code",
      "source": [
        "!yolo task=detect mode=train model=yolov8m.pt data=/content/roaddetection-5/data.yaml epochs=30 imgsz=640"
      ],
      "metadata": {
        "id": "rFmQzEZrPuGe"
      },
      "execution_count": null,
      "outputs": []
    },
    {
      "cell_type": "markdown",
      "source": [
        "Проверка результатов обучения на тестовых изображениях"
      ],
      "metadata": {
        "id": "jMwGaEIll48M"
      }
    },
    {
      "cell_type": "code",
      "source": [
        "!yolo task=detect mode=predict model=/content/runs/detect/train4/weights/best.pt conf=0.2 source=/content/roaddetection-5/test/images"
      ],
      "metadata": {
        "id": "6ti62d47PuWn"
      },
      "execution_count": null,
      "outputs": []
    },
    {
      "cell_type": "code",
      "source": [],
      "metadata": {
        "id": "izsV4wRSXQIn"
      },
      "execution_count": null,
      "outputs": []
    }
  ]
}